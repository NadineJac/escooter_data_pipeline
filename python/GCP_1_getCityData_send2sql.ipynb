{
 "cells": [
  {
   "cell_type": "markdown",
   "id": "490dd4ed",
   "metadata": {},
   "source": [
    "# Scape info on cities from Wikipedia"
   ]
  },
  {
   "cell_type": "markdown",
   "id": "ed994dcf",
   "metadata": {},
   "source": [
    "Use english city names to obtain info from Wikipedia-pages:\n",
    "* Country\n",
    "* Popilation\n",
    "* Coordinates (latitude, longitude)\n",
    "\n",
    "Store in two seperate dataframes to export to MySQL\n",
    "\n",
    "`cities_df`\n",
    "* city_name (str)\n",
    "* country (str)\n",
    "* country_code (str)\n",
    "* latitude (float)\n",
    "* longitude (float)\n",
    "\n",
    "`pop_df`\n",
    "* city_name (str)\n",
    "* population (int)\n",
    "* measurement_date (string)\n",
    "* retrieval_date (date)"
   ]
  },
  {
   "cell_type": "markdown",
   "id": "a13db605",
   "metadata": {},
   "source": [
    "Please ensure you have set up the corresponding tables with `sql/create_database_data_pipeline_example.sql`.\n",
    "\n",
    "Save you MySQL password in `python/key.env` as `MYSQL_KEY` (or provide you password by other means) and open your MySQL workbench."
   ]
  },
  {
   "cell_type": "markdown",
   "id": "5cb31ab3",
   "metadata": {},
   "source": [
    "# Import libraries"
   ]
  },
  {
   "cell_type": "code",
   "execution_count": 1,
   "id": "becd42eb",
   "metadata": {},
   "outputs": [],
   "source": [
    "import pandas as pd\n",
    "import requests\n",
    "from bs4 import BeautifulSoup\n",
    "import sqlalchemy\n",
    "from dotenv import load_dotenv\n",
    "import os\n",
    "import re\n",
    "from datetime import datetime"
   ]
  },
  {
   "cell_type": "code",
   "execution_count": 4,
   "id": "51bce661",
   "metadata": {},
   "outputs": [],
   "source": [
    "cities = ['Berlin', 'Hamburg', 'Munich']"
   ]
  },
  {
   "cell_type": "markdown",
   "id": "ba14893f",
   "metadata": {},
   "source": [
    "# Get data"
   ]
  },
  {
   "cell_type": "markdown",
   "id": "786ac20c",
   "metadata": {},
   "source": [
    "## City info"
   ]
  },
  {
   "cell_type": "code",
   "execution_count": 6,
   "id": "34377fa5",
   "metadata": {},
   "outputs": [],
   "source": [
    "def getCityInfoWiki(cities):\n",
    "    '''\n",
    "    Compile info on Cities from Wikipedia:\n",
    "    Country, Latitude, Longitude, Pupulation and date when population was assessed\n",
    "    INPUT: list of city names in English\n",
    "    OUTPUT:pandas data frame with columns:\n",
    "        city (str)\n",
    "        country (str)\n",
    "        latitude (float)\n",
    "        longitude (float)\n",
    "\n",
    "    To-do:\n",
    "    - add error if wiki page not found\n",
    "    '''\n",
    "    country = []\n",
    "    country_code = []\n",
    "    latitude = []\n",
    "    longitude = []\n",
    "\n",
    "    def convert_coordinates_degree2dec(coord):\n",
    "        \"\"\"Convert coordinates from DMS (e.g., '13°24′18″E', '13°24′E', or '13°E') to decimal degrees.\"\"\"\n",
    "        import re\n",
    "        import math\n",
    "\n",
    "        # Regex that allows optional minutes (′) and seconds (″)\n",
    "        match = re.match(\n",
    "            r\"^\\s*(\\d+)°(?:\\s*(\\d+)′)?(?:\\s*(\\d+)″)?\\s*([NSEW])\\s*$\",\n",
    "            coord\n",
    "        )\n",
    "\n",
    "        if match:\n",
    "            degrees, minutes, seconds, direction = match.groups()\n",
    "\n",
    "            # Default missing parts to 0\n",
    "            minutes = float(minutes) if minutes else 0.0\n",
    "            seconds = float(seconds) if seconds else 0.0\n",
    "\n",
    "            # Convert to decimal degrees\n",
    "            decimal = float(degrees) + minutes/60 + seconds/3600\n",
    "\n",
    "            # West/South are negative\n",
    "            if direction in ['W', 'S']:\n",
    "                decimal = -decimal\n",
    "        else:\n",
    "            decimal = float('nan')  # Return NaN for invalid format\n",
    "            print(f\"Invalid coordinate format: {coord}\")\n",
    "\n",
    "        return decimal\n",
    "\n",
    "\n",
    "    for city in cities:\n",
    "        url = \"https://en.wikipedia.org/wiki/\" + city.replace(\" \", \"_\")\n",
    "        headers = {'User-Agent': 'Chrome/134.0.0.0'}\n",
    "        response = requests.get(url, headers=headers)\n",
    "        soup_city = BeautifulSoup(response.content, 'html.parser')\n",
    "\n",
    "        # Country\n",
    "        country_name = soup_city.find(\"th\", string=\"Country\").find_next(\"td\").get_text()\n",
    "        country.append(country_name)\n",
    "        country_code.append(country_name.upper()[0:3])\n",
    "\n",
    "        # Location\n",
    "        latitude.append(convert_coordinates_degree2dec(soup_city.find(class_='latitude').get_text()))\n",
    "        longitude.append(convert_coordinates_degree2dec(soup_city.find(class_='longitude').get_text()))\n",
    "    \n",
    "    cities_df = pd.DataFrame({\n",
    "        'city_name': cities, \n",
    "        'country':country, \n",
    "        'country_code':country_code, \n",
    "        'latitude':latitude, \n",
    "        'longitude': longitude\n",
    "        })\n",
    "    return cities_df"
   ]
  },
  {
   "cell_type": "code",
   "execution_count": 7,
   "id": "2c6a09b3",
   "metadata": {},
   "outputs": [
    {
     "data": {
      "text/html": [
       "<div>\n",
       "<style scoped>\n",
       "    .dataframe tbody tr th:only-of-type {\n",
       "        vertical-align: middle;\n",
       "    }\n",
       "\n",
       "    .dataframe tbody tr th {\n",
       "        vertical-align: top;\n",
       "    }\n",
       "\n",
       "    .dataframe thead th {\n",
       "        text-align: right;\n",
       "    }\n",
       "</style>\n",
       "<table border=\"1\" class=\"dataframe\">\n",
       "  <thead>\n",
       "    <tr style=\"text-align: right;\">\n",
       "      <th></th>\n",
       "      <th>city_name</th>\n",
       "      <th>country</th>\n",
       "      <th>country_code</th>\n",
       "      <th>latitude</th>\n",
       "      <th>longitude</th>\n",
       "    </tr>\n",
       "  </thead>\n",
       "  <tbody>\n",
       "    <tr>\n",
       "      <th>0</th>\n",
       "      <td>Berlin</td>\n",
       "      <td>Germany</td>\n",
       "      <td>GER</td>\n",
       "      <td>52.5200</td>\n",
       "      <td>13.405</td>\n",
       "    </tr>\n",
       "    <tr>\n",
       "      <th>1</th>\n",
       "      <td>Hamburg</td>\n",
       "      <td>Germany</td>\n",
       "      <td>GER</td>\n",
       "      <td>53.5500</td>\n",
       "      <td>10.000</td>\n",
       "    </tr>\n",
       "    <tr>\n",
       "      <th>2</th>\n",
       "      <td>Munich</td>\n",
       "      <td>Germany</td>\n",
       "      <td>GER</td>\n",
       "      <td>48.1375</td>\n",
       "      <td>11.575</td>\n",
       "    </tr>\n",
       "  </tbody>\n",
       "</table>\n",
       "</div>"
      ],
      "text/plain": [
       "  city_name  country country_code  latitude  longitude\n",
       "0    Berlin  Germany          GER   52.5200     13.405\n",
       "1   Hamburg  Germany          GER   53.5500     10.000\n",
       "2    Munich  Germany          GER   48.1375     11.575"
      ]
     },
     "execution_count": 7,
     "metadata": {},
     "output_type": "execute_result"
    }
   ],
   "source": [
    "cities_df = getCityInfoWiki(cities)\n",
    "cities_df"
   ]
  },
  {
   "cell_type": "markdown",
   "id": "dec93c2e",
   "metadata": {},
   "source": [
    "## Population Info"
   ]
  },
  {
   "cell_type": "code",
   "execution_count": 8,
   "id": "6ac0c76d",
   "metadata": {},
   "outputs": [],
   "source": [
    "def getCityPopWiki(cities):\n",
    "    '''\n",
    "    Compile info on Cities from Wikipedia:\n",
    "    Country, Latitude, Longitude, Pupulation and date when population was assessed\n",
    "    INPUT: list of city names in English\n",
    "    OUTPUT:pandas data frame with columns:\n",
    "        city (str)\n",
    "        population (int)\n",
    "        measurement_date (string)\n",
    "        retrieval_date (date)\n",
    "\n",
    "    To-do:\n",
    "    - add error if wiki page not found\n",
    "    '''\n",
    "\n",
    "    population = []\n",
    "    measurement_date = []\n",
    "    retrieval_date = []\n",
    "\n",
    "    for city in cities:\n",
    "        url = \"https://en.wikipedia.org/wiki/\" + city.replace(\" \", \"_\")\n",
    "        headers = {'User-Agent': 'Chrome/134.0.0.0'}\n",
    "        response = requests.get(url, headers=headers)\n",
    "        soup_city = BeautifulSoup(response.content, 'html.parser')\n",
    "\n",
    "        # Population\n",
    "        pop = soup_city.find(string=\"Population\").find_next('td').get_text()\n",
    "        population.append(int(pop.replace(\",\", \"\")))\n",
    "        date = soup_city.find(string=\"Population\").find_next('div').get_text()\n",
    "        measurement_date.append(re.search(r'\\((.*?)\\)', date).group(1))\n",
    "        retrieval_date.append(datetime.today().strftime('%Y-%m-%d'))\n",
    "\n",
    "    cities_df = pd.DataFrame(\n",
    "        {'city_name': cities, \n",
    "         'population':population, \n",
    "         'measurement_date':measurement_date, \n",
    "         'retrieval_date':retrieval_date})\n",
    "    \n",
    "    return cities_df"
   ]
  },
  {
   "cell_type": "code",
   "execution_count": 9,
   "id": "639e078d",
   "metadata": {},
   "outputs": [
    {
     "data": {
      "text/html": [
       "<div>\n",
       "<style scoped>\n",
       "    .dataframe tbody tr th:only-of-type {\n",
       "        vertical-align: middle;\n",
       "    }\n",
       "\n",
       "    .dataframe tbody tr th {\n",
       "        vertical-align: top;\n",
       "    }\n",
       "\n",
       "    .dataframe thead th {\n",
       "        text-align: right;\n",
       "    }\n",
       "</style>\n",
       "<table border=\"1\" class=\"dataframe\">\n",
       "  <thead>\n",
       "    <tr style=\"text-align: right;\">\n",
       "      <th></th>\n",
       "      <th>city_name</th>\n",
       "      <th>population</th>\n",
       "      <th>measurement_date</th>\n",
       "      <th>retrieval_date</th>\n",
       "    </tr>\n",
       "  </thead>\n",
       "  <tbody>\n",
       "    <tr>\n",
       "      <th>0</th>\n",
       "      <td>Berlin</td>\n",
       "      <td>3596999</td>\n",
       "      <td>2022 census</td>\n",
       "      <td>2025-10-22</td>\n",
       "    </tr>\n",
       "    <tr>\n",
       "      <th>1</th>\n",
       "      <td>Hamburg</td>\n",
       "      <td>1964021</td>\n",
       "      <td>2023-12-31</td>\n",
       "      <td>2025-10-22</td>\n",
       "    </tr>\n",
       "    <tr>\n",
       "      <th>2</th>\n",
       "      <td>Munich</td>\n",
       "      <td>1505005</td>\n",
       "      <td>2024-12-31</td>\n",
       "      <td>2025-10-22</td>\n",
       "    </tr>\n",
       "  </tbody>\n",
       "</table>\n",
       "</div>"
      ],
      "text/plain": [
       "  city_name  population measurement_date retrieval_date\n",
       "0    Berlin     3596999      2022 census     2025-10-22\n",
       "1   Hamburg     1964021       2023-12-31     2025-10-22\n",
       "2    Munich     1505005       2024-12-31     2025-10-22"
      ]
     },
     "execution_count": 9,
     "metadata": {},
     "output_type": "execute_result"
    }
   ],
   "source": [
    "pop_df = getCityPopWiki(cities)\n",
    "pop_df "
   ]
  },
  {
   "cell_type": "markdown",
   "id": "5112f2cf",
   "metadata": {},
   "source": [
    "## Airports info"
   ]
  },
  {
   "cell_type": "code",
   "execution_count": null,
   "id": "34cb30ad",
   "metadata": {},
   "outputs": [],
   "source": [
    "def get_airports(cities_df):\n",
    "  # API headers\n",
    "  load_dotenv('keys.env')\n",
    "  API_KEY = os.getenv(\"AERODATABOX_KEY\")\n",
    "  headers = {\n",
    "      \"X-RapidAPI-Key\": API_KEY,\n",
    "      \"X-RapidAPI-Host\": \"aerodatabox.p.rapidapi.com\"\n",
    "  }\n",
    "\n",
    "  # DataFrame to store results\n",
    "  all_airports = []\n",
    "  for _, city in cities_df.iterrows():\n",
    "    lat = city[\"latitude\"]\n",
    "    lon = city[\"longitude\"]\n",
    "\n",
    "    # Construct the URL with the latitude and longitude\n",
    "    url = f\"https://aerodatabox.p.rapidapi.com/airports/search/location/\"\n",
    "    querystring = {\"lat\":lat, \"lon\":lon,\"radiusKm\":\"50\",\"limit\":\"10\",\"withFlightInfoOnly\":\"true\"}\n",
    "\n",
    "    # Make the API request\n",
    "    response = requests.get(url, headers=headers, params=querystring)\n",
    "\n",
    "    if response.status_code == 200:\n",
    "      data = response.json()\n",
    "      airports = pd.json_normalize(data.get('items', []))\n",
    "      airports['city_id'] =city[\"city_id\"]\n",
    "      all_airports.append(airports)\n",
    "\n",
    "  return pd.concat(all_airports, ignore_index=True)"
   ]
  },
  {
   "cell_type": "code",
   "execution_count": null,
   "id": "254a40ee",
   "metadata": {},
   "outputs": [
    {
     "data": {
      "text/html": [
       "<div>\n",
       "<style scoped>\n",
       "    .dataframe tbody tr th:only-of-type {\n",
       "        vertical-align: middle;\n",
       "    }\n",
       "\n",
       "    .dataframe tbody tr th {\n",
       "        vertical-align: top;\n",
       "    }\n",
       "\n",
       "    .dataframe thead th {\n",
       "        text-align: right;\n",
       "    }\n",
       "</style>\n",
       "<table border=\"1\" class=\"dataframe\">\n",
       "  <thead>\n",
       "    <tr style=\"text-align: right;\">\n",
       "      <th></th>\n",
       "      <th>icao</th>\n",
       "      <th>iata</th>\n",
       "      <th>name</th>\n",
       "      <th>shortName</th>\n",
       "      <th>municipalityName</th>\n",
       "      <th>countryCode</th>\n",
       "      <th>timeZone</th>\n",
       "      <th>location.lat</th>\n",
       "      <th>location.lon</th>\n",
       "      <th>city_id</th>\n",
       "    </tr>\n",
       "  </thead>\n",
       "  <tbody>\n",
       "    <tr>\n",
       "      <th>0</th>\n",
       "      <td>EDDT</td>\n",
       "      <td>TXL</td>\n",
       "      <td>Berlin -Tegel</td>\n",
       "      <td>-Tegel</td>\n",
       "      <td>Berlin</td>\n",
       "      <td>DE</td>\n",
       "      <td>Europe/Berlin</td>\n",
       "      <td>52.55970</td>\n",
       "      <td>13.287699</td>\n",
       "      <td>1</td>\n",
       "    </tr>\n",
       "    <tr>\n",
       "      <th>1</th>\n",
       "      <td>EDDB</td>\n",
       "      <td>BER</td>\n",
       "      <td>Berlin Brandenburg</td>\n",
       "      <td>Brandenburg</td>\n",
       "      <td>Berlin</td>\n",
       "      <td>DE</td>\n",
       "      <td>Europe/Berlin</td>\n",
       "      <td>52.35139</td>\n",
       "      <td>13.493889</td>\n",
       "      <td>1</td>\n",
       "    </tr>\n",
       "    <tr>\n",
       "      <th>2</th>\n",
       "      <td>EDDH</td>\n",
       "      <td>HAM</td>\n",
       "      <td>Hamburg</td>\n",
       "      <td>Hamburg</td>\n",
       "      <td>Hamburg</td>\n",
       "      <td>DE</td>\n",
       "      <td>Europe/Berlin</td>\n",
       "      <td>53.63040</td>\n",
       "      <td>9.988229</td>\n",
       "      <td>2</td>\n",
       "    </tr>\n",
       "    <tr>\n",
       "      <th>3</th>\n",
       "      <td>EDDM</td>\n",
       "      <td>MUC</td>\n",
       "      <td>Munich</td>\n",
       "      <td>Munich</td>\n",
       "      <td>Munich</td>\n",
       "      <td>DE</td>\n",
       "      <td>Europe/Berlin</td>\n",
       "      <td>48.35380</td>\n",
       "      <td>11.786100</td>\n",
       "      <td>3</td>\n",
       "    </tr>\n",
       "  </tbody>\n",
       "</table>\n",
       "</div>"
      ],
      "text/plain": [
       "   icao iata                name    shortName municipalityName countryCode  \\\n",
       "0  EDDT  TXL       Berlin -Tegel       -Tegel           Berlin          DE   \n",
       "1  EDDB  BER  Berlin Brandenburg  Brandenburg           Berlin          DE   \n",
       "2  EDDH  HAM             Hamburg      Hamburg          Hamburg          DE   \n",
       "3  EDDM  MUC              Munich       Munich           Munich          DE   \n",
       "\n",
       "        timeZone  location.lat  location.lon  city_id  \n",
       "0  Europe/Berlin      52.55970     13.287699        1  \n",
       "1  Europe/Berlin      52.35139     13.493889        1  \n",
       "2  Europe/Berlin      53.63040      9.988229        2  \n",
       "3  Europe/Berlin      48.35380     11.786100        3  "
      ]
     },
     "metadata": {},
     "output_type": "display_data"
    }
   ],
   "source": [
    "all_airports = get_airports(cities_from_sql)\n",
    "airports_df = all_airports[['icao', 'name', 'city_id']]\n",
    "airports_df = airports_df.rename(columns={\"icao\": \"icao_code\", \"name\": \"airport_name\"})\n",
    "airports_df"
   ]
  },
  {
   "cell_type": "markdown",
   "id": "2c1f8c73",
   "metadata": {},
   "source": [
    "# Send data to SQL"
   ]
  },
  {
   "cell_type": "markdown",
   "id": "6b2ce7c4",
   "metadata": {},
   "source": [
    "Please ensure you have set up the corresponding tables with `sql/create_database_data_pipeline_example.sql`.\n",
    "\n",
    "Save you MySQL password in `python/key.env` as `MYSQL_KEY` (or provide you password by other means) and open your MySQL workbench."
   ]
  },
  {
   "cell_type": "markdown",
   "id": "881fb037",
   "metadata": {},
   "source": [
    "### Provide info to connect to MySQL"
   ]
  },
  {
   "cell_type": "code",
   "execution_count": 2,
   "id": "ef8fd930",
   "metadata": {},
   "outputs": [],
   "source": [
    "load_dotenv('keys.env')  # Load .env into environment\n",
    "password = os.getenv(\"WBS_MYSQL_DB\")\n",
    "schema = \"data_pipeline_example\"\n",
    "host = \"130.211.82.25\"\n",
    "user = \"root\"\n",
    "port = 3306\n",
    "\n",
    "connection_string = f'mysql+pymysql://{user}:{password}@{host}:{port}/{schema}'"
   ]
  },
  {
   "cell_type": "markdown",
   "id": "58fe8599",
   "metadata": {},
   "source": [
    "### Send city data"
   ]
  },
  {
   "cell_type": "code",
   "execution_count": 11,
   "id": "46136e36",
   "metadata": {},
   "outputs": [
    {
     "data": {
      "text/plain": [
       "3"
      ]
     },
     "execution_count": 11,
     "metadata": {},
     "output_type": "execute_result"
    }
   ],
   "source": [
    "cities_df.to_sql('cities',\n",
    "                  if_exists='append',\n",
    "                  con=connection_string,\n",
    "                  index=False)"
   ]
  },
  {
   "cell_type": "markdown",
   "id": "0c9419ae",
   "metadata": {},
   "source": [
    "### Send population data"
   ]
  },
  {
   "cell_type": "markdown",
   "id": "59849c77",
   "metadata": {},
   "source": [
    "Retrieve city data first and merge with population data frage to get the city_id. Then send population data to MySQL."
   ]
  },
  {
   "cell_type": "code",
   "execution_count": 12,
   "id": "7e73dc32",
   "metadata": {},
   "outputs": [
    {
     "data": {
      "text/html": [
       "<div>\n",
       "<style scoped>\n",
       "    .dataframe tbody tr th:only-of-type {\n",
       "        vertical-align: middle;\n",
       "    }\n",
       "\n",
       "    .dataframe tbody tr th {\n",
       "        vertical-align: top;\n",
       "    }\n",
       "\n",
       "    .dataframe thead th {\n",
       "        text-align: right;\n",
       "    }\n",
       "</style>\n",
       "<table border=\"1\" class=\"dataframe\">\n",
       "  <thead>\n",
       "    <tr style=\"text-align: right;\">\n",
       "      <th></th>\n",
       "      <th>population</th>\n",
       "      <th>measurement_date</th>\n",
       "      <th>retrieval_date</th>\n",
       "      <th>city_id</th>\n",
       "    </tr>\n",
       "  </thead>\n",
       "  <tbody>\n",
       "    <tr>\n",
       "      <th>0</th>\n",
       "      <td>3596999</td>\n",
       "      <td>2022 census</td>\n",
       "      <td>2025-10-22</td>\n",
       "      <td>1</td>\n",
       "    </tr>\n",
       "    <tr>\n",
       "      <th>1</th>\n",
       "      <td>1964021</td>\n",
       "      <td>2023-12-31</td>\n",
       "      <td>2025-10-22</td>\n",
       "      <td>2</td>\n",
       "    </tr>\n",
       "    <tr>\n",
       "      <th>2</th>\n",
       "      <td>1505005</td>\n",
       "      <td>2024-12-31</td>\n",
       "      <td>2025-10-22</td>\n",
       "      <td>3</td>\n",
       "    </tr>\n",
       "  </tbody>\n",
       "</table>\n",
       "</div>"
      ],
      "text/plain": [
       "   population measurement_date retrieval_date  city_id\n",
       "0     3596999      2022 census     2025-10-22        1\n",
       "1     1964021       2023-12-31     2025-10-22        2\n",
       "2     1505005       2024-12-31     2025-10-22        3"
      ]
     },
     "execution_count": 12,
     "metadata": {},
     "output_type": "execute_result"
    }
   ],
   "source": [
    "cities_from_sql = pd.read_sql(\"cities\", con=connection_string)\n",
    "\n",
    "pop_merged_df = pop_df.merge(cities_from_sql[['city_id','city_name']],\n",
    "                      on = \"city_name\",\n",
    "                      how=\"left\")\n",
    "pop_merged_df = pop_merged_df.drop(columns=[\"city_name\"])\n",
    "pop_merged_df "
   ]
  },
  {
   "cell_type": "code",
   "execution_count": 13,
   "id": "29fa380c",
   "metadata": {},
   "outputs": [
    {
     "data": {
      "text/plain": [
       "3"
      ]
     },
     "execution_count": 13,
     "metadata": {},
     "output_type": "execute_result"
    }
   ],
   "source": [
    "pop_merged_df.to_sql('population',\n",
    "                if_exists='append',\n",
    "                con=connection_string,\n",
    "                index=False)"
   ]
  },
  {
   "cell_type": "markdown",
   "id": "2defb72a",
   "metadata": {},
   "source": [
    "## Send airport data"
   ]
  },
  {
   "cell_type": "code",
   "execution_count": 22,
   "id": "e68e1c95",
   "metadata": {},
   "outputs": [
    {
     "data": {
      "text/plain": [
       "4"
      ]
     },
     "execution_count": 22,
     "metadata": {},
     "output_type": "execute_result"
    }
   ],
   "source": [
    "airports_df.to_sql(\n",
    "        'cities_airports',\n",
    "        if_exists='append',\n",
    "        con=connection_string,\n",
    "        index=False\n",
    ")"
   ]
  }
 ],
 "metadata": {
  "kernelspec": {
   "display_name": "Python 3",
   "language": "python",
   "name": "python3"
  },
  "language_info": {
   "codemirror_mode": {
    "name": "ipython",
    "version": 3
   },
   "file_extension": ".py",
   "mimetype": "text/x-python",
   "name": "python",
   "nbconvert_exporter": "python",
   "pygments_lexer": "ipython3",
   "version": "3.13.7"
  }
 },
 "nbformat": 4,
 "nbformat_minor": 5
}
