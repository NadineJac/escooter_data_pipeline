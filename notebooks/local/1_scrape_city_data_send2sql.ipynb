{
 "cells": [
  {
   "cell_type": "markdown",
   "id": "8051ca54",
   "metadata": {},
   "source": [
    "# Scape info on cities from Wikipedia"
   ]
  },
  {
   "cell_type": "markdown",
   "id": "a8765da7",
   "metadata": {},
   "source": [
    "Use english city names to obtain info from Wikipedia-pages:\n",
    "* Country\n",
    "* Popilation\n",
    "* Coordinates (latitude, longitude)\n",
    "\n",
    "Store in two seperate dataframes to export to MySQL\n",
    "\n",
    "`cities_df`\n",
    "* city_name (str)\n",
    "* country (str)\n",
    "* country_code (str)\n",
    "* latitude (float)\n",
    "* longitude (float)\n",
    "\n",
    "`pop_df`\n",
    "* city_name (str)\n",
    "* population (int)\n",
    "* measurement_date (string)\n",
    "* retrieval_date (date)"
   ]
  },
  {
   "cell_type": "markdown",
   "id": "86801375",
   "metadata": {},
   "source": [
    "Please ensure you have set up the corresponding tables with `sql/create_database_data_pipeline_example.sql`.\n",
    "\n",
    "Save you MySQL password in `python/key.env` as `MYSQL_KEY` (or provide you password by other means) and open your MySQL workbench."
   ]
  },
  {
   "cell_type": "markdown",
   "id": "615908ce",
   "metadata": {},
   "source": [
    "# Import libraries"
   ]
  },
  {
   "cell_type": "code",
   "execution_count": 2,
   "id": "6518d508",
   "metadata": {},
   "outputs": [],
   "source": [
    "import pandas as pd\n",
    "import requests\n",
    "from bs4 import BeautifulSoup\n",
    "import sqlalchemy\n",
    "from dotenv import load_dotenv\n",
    "import os\n",
    "import re\n",
    "from datetime import datetime"
   ]
  },
  {
   "cell_type": "markdown",
   "id": "e42bc459",
   "metadata": {},
   "source": [
    "## City info"
   ]
  },
  {
   "cell_type": "code",
   "execution_count": 5,
   "id": "d08cd205",
   "metadata": {},
   "outputs": [],
   "source": [
    "def getCityInfoWiki(cities):\n",
    "    '''\n",
    "    Compile info on Cities from Wikipedia:\n",
    "    Country, Latitude, Longitude, Pupulation and date when population was assessed\n",
    "    INPUT: list of city names in English\n",
    "    OUTPUT:pandas data frame with columns:\n",
    "        city (str)\n",
    "        country (str)\n",
    "        latitude (float)\n",
    "        longitude (float)\n",
    "\n",
    "    To-do:\n",
    "    - add error if wiki page not found\n",
    "    '''\n",
    "    country = []\n",
    "    country_code = []\n",
    "    latitude = []\n",
    "    longitude = []\n",
    "\n",
    "    def convert_coordinates_degree2dec(coord):\n",
    "        \"\"\"Convert coordinates from DMS (e.g., '13°24′18″E', '13°24′E', or '13°E') to decimal degrees.\"\"\"\n",
    "        import re\n",
    "        import math\n",
    "\n",
    "        # Regex that allows optional minutes (′) and seconds (″)\n",
    "        match = re.match(\n",
    "            r\"^\\s*(\\d+)°(?:\\s*(\\d+)′)?(?:\\s*(\\d+)″)?\\s*([NSEW])\\s*$\",\n",
    "            coord\n",
    "        )\n",
    "\n",
    "        if match:\n",
    "            degrees, minutes, seconds, direction = match.groups()\n",
    "\n",
    "            # Default missing parts to 0\n",
    "            minutes = float(minutes) if minutes else 0.0\n",
    "            seconds = float(seconds) if seconds else 0.0\n",
    "\n",
    "            # Convert to decimal degrees\n",
    "            decimal = float(degrees) + minutes/60 + seconds/3600\n",
    "\n",
    "            # West/South are negative\n",
    "            if direction in ['W', 'S']:\n",
    "                decimal = -decimal\n",
    "        else:\n",
    "            decimal = float('nan')  # Return NaN for invalid format\n",
    "            print(f\"Invalid coordinate format: {coord}\")\n",
    "\n",
    "        return decimal\n",
    "\n",
    "\n",
    "    for city in cities:\n",
    "        url = \"https://en.wikipedia.org/wiki/\" + city.replace(\" \", \"_\")\n",
    "        headers = {'User-Agent': 'Chrome/134.0.0.0'}\n",
    "        response = requests.get(url, headers=headers)\n",
    "        soup_city = BeautifulSoup(response.content, 'html.parser')\n",
    "\n",
    "        # Country\n",
    "        country_name = soup_city.find(\"th\", string=\"Country\").find_next(\"td\").get_text()\n",
    "        country.append(country_name)\n",
    "        country_code.append(country_name.upper()[0:3])\n",
    "\n",
    "        # Location\n",
    "        latitude.append(convert_coordinates_degree2dec(soup_city.find(class_='latitude').get_text()))\n",
    "        longitude.append(convert_coordinates_degree2dec(soup_city.find(class_='longitude').get_text()))\n",
    "    \n",
    "    cities_df = pd.DataFrame({\n",
    "        'city_name': cities, \n",
    "        'country':country, \n",
    "        'country_code':country_code, \n",
    "        'latitude':latitude, \n",
    "        'longitude': longitude\n",
    "        })\n",
    "    return cities_df"
   ]
  },
  {
   "cell_type": "code",
   "execution_count": 6,
   "id": "7138ca46",
   "metadata": {},
   "outputs": [
    {
     "data": {
      "text/html": [
       "<div>\n",
       "<style scoped>\n",
       "    .dataframe tbody tr th:only-of-type {\n",
       "        vertical-align: middle;\n",
       "    }\n",
       "\n",
       "    .dataframe tbody tr th {\n",
       "        vertical-align: top;\n",
       "    }\n",
       "\n",
       "    .dataframe thead th {\n",
       "        text-align: right;\n",
       "    }\n",
       "</style>\n",
       "<table border=\"1\" class=\"dataframe\">\n",
       "  <thead>\n",
       "    <tr style=\"text-align: right;\">\n",
       "      <th></th>\n",
       "      <th>city_name</th>\n",
       "      <th>country</th>\n",
       "      <th>country_code</th>\n",
       "      <th>latitude</th>\n",
       "      <th>longitude</th>\n",
       "    </tr>\n",
       "  </thead>\n",
       "  <tbody>\n",
       "    <tr>\n",
       "      <th>0</th>\n",
       "      <td>Berlin</td>\n",
       "      <td>Germany</td>\n",
       "      <td>GER</td>\n",
       "      <td>52.5200</td>\n",
       "      <td>13.405</td>\n",
       "    </tr>\n",
       "    <tr>\n",
       "      <th>1</th>\n",
       "      <td>Hamburg</td>\n",
       "      <td>Germany</td>\n",
       "      <td>GER</td>\n",
       "      <td>53.5500</td>\n",
       "      <td>10.000</td>\n",
       "    </tr>\n",
       "    <tr>\n",
       "      <th>2</th>\n",
       "      <td>Munich</td>\n",
       "      <td>Germany</td>\n",
       "      <td>GER</td>\n",
       "      <td>48.1375</td>\n",
       "      <td>11.575</td>\n",
       "    </tr>\n",
       "  </tbody>\n",
       "</table>\n",
       "</div>"
      ],
      "text/plain": [
       "  city_name  country country_code  latitude  longitude\n",
       "0    Berlin  Germany          GER   52.5200     13.405\n",
       "1   Hamburg  Germany          GER   53.5500     10.000\n",
       "2    Munich  Germany          GER   48.1375     11.575"
      ]
     },
     "execution_count": 6,
     "metadata": {},
     "output_type": "execute_result"
    }
   ],
   "source": [
    "load_dotenv('keys.env')  # Load .env into environment\n",
    "cities = os.getenv(\"CITIES\").split(\",\")\n",
    "cities_df = getCityInfoWiki(cities)\n",
    "cities_df"
   ]
  },
  {
   "cell_type": "markdown",
   "id": "d01b0b46",
   "metadata": {},
   "source": [
    "## Population Info"
   ]
  },
  {
   "cell_type": "code",
   "execution_count": null,
   "id": "c8e4996b",
   "metadata": {},
   "outputs": [],
   "source": [
    "def getCityPopWiki(cities):\n",
    "    '''\n",
    "    Compile info on Cities from Wikipedia:\n",
    "    Country, Latitude, Longitude, Pupulation and date when population was assessed\n",
    "    INPUT: list of city names in English\n",
    "    OUTPUT:pandas data frame with columns:\n",
    "        city (str)\n",
    "        population (int)\n",
    "        measurement_date (string)\n",
    "        retrieval_date (date)\n",
    "\n",
    "    To-do:\n",
    "    - add error if wiki page not found\n",
    "    '''\n",
    "\n",
    "    population = []\n",
    "    measurement_date = []\n",
    "    retrieval_date = []\n",
    "\n",
    "    for city in cities:\n",
    "        url = \"https://en.wikipedia.org/wiki/\" + city.replace(\" \", \"_\")\n",
    "        headers = {'User-Agent': 'Chrome/134.0.0.0'}\n",
    "        response = requests.get(url, headers=headers)\n",
    "        soup_city = BeautifulSoup(response.content, 'html.parser')\n",
    "\n",
    "        # Population\n",
    "        pop = soup_city.find(string=\"Population\").find_next('td').get_text()\n",
    "        population.append(int(pop.replace(\",\", \"\")))\n",
    "        date = soup_city.find(string=\"Population\").find_next('div').get_text()\n",
    "        measurement_date.append(re.search(r'\\((.*?)\\)', date).group(1))\n",
    "        retrieval_date.append(datetime.today().strftime('%Y-%m-%d'))\n",
    "\n",
    "    cities_df = pd.DataFrame(\n",
    "        {'city_name': cities, \n",
    "         'population':population, \n",
    "         'measurement_date':measurement_date, \n",
    "         'retrieval_date':retrieval_date})\n",
    "    \n",
    "    return cities_df"
   ]
  },
  {
   "cell_type": "code",
   "execution_count": null,
   "id": "808c79f6",
   "metadata": {},
   "outputs": [],
   "source": [
    "pop_df = getCityPopWiki(cities)\n",
    "pop_df "
   ]
  },
  {
   "cell_type": "markdown",
   "id": "a774916b",
   "metadata": {},
   "source": [
    "## Send data to SQL"
   ]
  },
  {
   "cell_type": "markdown",
   "id": "3d0931f2",
   "metadata": {},
   "source": [
    "Please ensure you have set up the corresponding tables with `sql/create_database_data_pipeline_example.sql`.\n",
    "\n",
    "Save you MySQL password in `python/key.env` as `MYSQL_KEY` (or provide you password by other means) and open your MySQL workbench."
   ]
  },
  {
   "cell_type": "markdown",
   "id": "64650fce",
   "metadata": {},
   "source": [
    "### Provide info to connect to MySQL"
   ]
  },
  {
   "cell_type": "code",
   "execution_count": null,
   "id": "dad80ba5",
   "metadata": {},
   "outputs": [],
   "source": [
    "load_dotenv('keys.env')  # Load .env into environment\n",
    "password = os.getenv(\"MYSQL_KEY\")\n",
    "schema = \"data_pipeline_example\"\n",
    "host = os.getenv(\"HOST\")\n",
    "user = os.getenv(\"USER\")\n",
    "port = os.getenv(\"PORT\")\n",
    "\n",
    "connection_string = f'mysql+pymysql://{user}:{password}@{host}:{port}/{schema}'"
   ]
  },
  {
   "cell_type": "markdown",
   "id": "7c8a3dee",
   "metadata": {},
   "source": [
    "### Send city data"
   ]
  },
  {
   "cell_type": "code",
   "execution_count": null,
   "id": "e199fc63",
   "metadata": {},
   "outputs": [],
   "source": [
    "cities_df.to_sql('cities',\n",
    "                  if_exists='append',\n",
    "                  con=connection_string,\n",
    "                  index=False)"
   ]
  },
  {
   "cell_type": "markdown",
   "id": "06dbd04f",
   "metadata": {},
   "source": [
    "### Send population data"
   ]
  },
  {
   "cell_type": "markdown",
   "id": "2dbddf1f",
   "metadata": {},
   "source": [
    "Retrieve city data first and merge with population data frage to get the city_id. Then send population data to MySQL."
   ]
  },
  {
   "cell_type": "code",
   "execution_count": null,
   "id": "19504a08",
   "metadata": {},
   "outputs": [],
   "source": [
    "cities_from_sql = pd.read_sql(\"cities\", con=connection_string)\n",
    "\n",
    "pop_merged_df = pop_df.merge(cities_from_sql[['city_id','city_name']],\n",
    "                      on = \"city_name\",\n",
    "                      how=\"left\")\n",
    "pop_merged_df = pop_merged_df.drop(columns=[\"city_name\"])\n",
    "\n",
    "pop_merged_df.to_sql('population',\n",
    "                if_exists='append',\n",
    "                con=connection_string,\n",
    "                index=False)"
   ]
  }
 ],
 "metadata": {
  "kernelspec": {
   "display_name": "Python 3",
   "language": "python",
   "name": "python3"
  },
  "language_info": {
   "codemirror_mode": {
    "name": "ipython",
    "version": 3
   },
   "file_extension": ".py",
   "mimetype": "text/x-python",
   "name": "python",
   "nbconvert_exporter": "python",
   "pygments_lexer": "ipython3",
   "version": "3.13.7"
  }
 },
 "nbformat": 4,
 "nbformat_minor": 5
}
